{
 "cells": [
  {
   "cell_type": "markdown",
   "metadata": {},
   "source": [
    "# Unified Bedrock Model Manager Demonstration\n",
    "\n",
    "This notebook demonstrates the **UnifiedModelManager** - a comprehensive solution that integrates regular Amazon Bedrock model data with CRIS (Cross-Region Inference Service) data to provide a single source of truth for model access information.\n",
    "\n",
    "## Key Features\n",
    "- 🎯 **Single Source of Truth**: Unified view of model availability across all regions\n",
    "- 🔄 **Automatic Integration**: Correlates regular model data with CRIS data\n",
    "- 🌍 **Access Method Detection**: Identifies direct access, CRIS-only, or both options\n",
    "- 📊 **Comprehensive Querying**: Rich filtering and analysis capabilities\n",
    "- ⚡ **Smart Recommendations**: Optimal access method suggestions with rationale\n"
   ]
  },
  {
   "cell_type": "markdown",
   "metadata": {},
   "source": [
    "## Setup and Imports"
   ]
  },
  {
   "cell_type": "code",
   "execution_count": null,
   "metadata": {},
   "outputs": [],
   "source": [
    "import sys\n",
    "from pathlib import Path\n",
    "import logging\n",
    "import json\n",
    "from datetime import datetime\n",
    "\n",
    "# Add the src directory to path for imports\n",
    "sys.path.append(str(Path.cwd().parent / \"src\"))\n",
    "\n",
    "# Import our unified model manager and related classes\n",
    "from bedrock.UnifiedModelManager import UnifiedModelManager, UnifiedModelManagerError\n",
    "from bedrock.models.access_method import ModelAccessMethod, ModelAccessInfo\n",
    "from bedrock.models.unified_structures import UnifiedModelInfo\n",
    "\n",
    "# Configure logging for better visibility\n",
    "logging.basicConfig(\n",
    "    level=logging.INFO,\n",
    "    format='%(asctime)s - %(name)s - %(levelname)s - %(message)s'\n",
    ")\n",
    "\n",
    "print(\"✅ Imports successful!\")\n",
    "print(f\"📁 Working directory: {Path.cwd()}\")"
   ]
  },
  {
   "cell_type": "markdown",
   "metadata": {},
   "source": [
    "## Initialize the Unified Model Manager\n",
    "\n",
    "The `UnifiedModelManager` serves as the main interface for accessing unified model information."
   ]
  },
  {
   "cell_type": "code",
   "execution_count": null,
   "metadata": {},
   "outputs": [],
   "source": [
    "# Initialize the UnifiedModelManager\n",
    "print(\"🚀 Initializing UnifiedModelManager...\")\n",
    "\n",
    "manager = UnifiedModelManager(\n",
    "    force_download=False,  # Set to True to always download fresh data\n",
    "    download_timeout=30\n",
    ")\n",
    "\n",
    "print(f\"✅ UnifiedModelManager initialized:\")\n",
    "print(f\"   📄 JSON output path: {manager.json_output_path}\")\n",
    "print(f\"   🔄 Force download: {manager.force_download}\")\n",
    "print(f\"\\n{manager}\")"
   ]
  },
  {
   "cell_type": "markdown",
   "metadata": {},
   "source": [
    "## Refresh Unified Data\n",
    "\n",
    "This process will:\n",
    "1. Download regular Bedrock model documentation\n",
    "2. Download CRIS model documentation  \n",
    "3. Correlate and merge the two data sources\n",
    "4. Create a unified catalog with comprehensive access information\n",
    "\n",
    "**Note**: This may take a moment as it downloads and processes data from AWS documentation."
   ]
  },
  {
   "cell_type": "code",
   "execution_count": null,
   "metadata": {},
   "outputs": [],
   "source": [
    "print(\"📥 Refreshing unified model data...\")\n",
    "print(\"   This will download and correlate data from multiple sources...\")\n",
    "\n",
    "try:\n",
    "    # Refresh the unified data\n",
    "    catalog = manager.refresh_unified_data()\n",
    "    \n",
    "    print(f\"\\n✅ Successfully created unified catalog!\")\n",
    "    print(f\"   📊 Total models: {catalog.model_count}\")\n",
    "    print(f\"   🕐 Retrieved at: {catalog.retrieval_timestamp}\")\n",
    "    \n",
    "    # Get correlation statistics\n",
    "    stats = manager.get_correlation_stats()\n",
    "    print(f\"\\n📈 Correlation Statistics:\")\n",
    "    for key, value in stats.items():\n",
    "        print(f\"   {key.replace('_', ' ').title()}: {value}\")\n",
    "    \n",
    "except UnifiedModelManagerError as e:\n",
    "    print(f\"❌ Error refreshing data: {e}\")\n",
    "    # You can continue with cached data if available\n",
    "    catalog = manager.load_cached_data()\n",
    "    if catalog:\n",
    "        print(f\"📂 Using cached data: {catalog.model_count} models\")\n",
    "    else:\n",
    "        raise"
   ]
  },
  {
   "cell_type": "markdown",
   "metadata": {},
   "source": [
    "## Basic Catalog Information\n",
    "\n",
    "Let's explore the basic information about our unified catalog."
   ]
  },
  {
   "cell_type": "code",
   "execution_count": null,
   "metadata": {},
   "outputs": [],
   "source": [
    "# Basic catalog information\n",
    "print(\"📋 Unified Catalog Overview\")\n",
    "print(\"=\" * 40)\n",
    "\n",
    "# Model names\n",
    "model_names = manager.get_model_names()\n",
    "print(f\"\\n🤖 Available Models ({len(model_names)}):\")\n",
    "for i, name in enumerate(model_names[:15]):  # Show first 15\n",
    "    print(f\"   {i+1:2d}. {name}\")\n",
    "if len(model_names) > 15:\n",
    "    print(f\"   ... and {len(model_names) - 15} more\")\n",
    "\n",
    "# Supported regions\n",
    "regions = manager.get_all_supported_regions()\n",
    "print(f\"\\n🌍 Supported Regions ({len(regions)}):\")\n",
    "for i, region in enumerate(regions[:20]):  # Show first 20\n",
    "    print(f\"   {region}\")\n",
    "if len(regions) > 20:\n",
    "    print(f\"   ... and {len(regions) - 20} more\")\n",
    "\n",
    "# Provider breakdown\n",
    "print(f\"\\n🏢 Provider Analysis:\")\n",
    "providers = [\"Amazon\", \"Anthropic\", \"Meta\", \"Mistral\", \"DeepSeek\", \"Writer\"]\n",
    "for provider in providers:\n",
    "    provider_models = manager.get_models_by_provider(provider=provider)\n",
    "    if provider_models:\n",
    "        print(f\"   {provider:12s}: {len(provider_models):2d} models\")"
   ]
  },
  {
   "cell_type": "markdown",
   "metadata": {},
   "source": [
    "## Core Functionality: Model Access Information\n",
    "\n",
    "This is the heart of the unified system - determining how to access models in different regions."
   ]
  },
  {
   "cell_type": "code",
   "execution_count": null,
   "metadata": {},
   "outputs": [],
   "source": [
    "def display_access_info(model_name: str, region: str):\n",
    "    \"\"\"Helper function to display comprehensive access information for a model-region pair.\"\"\"\n",
    "    print(f\"\\n🔍 Access Information: '{model_name}' in '{region}'\")\n",
    "    print(\"-\" * 60)\n",
    "    \n",
    "    # Check if model exists\n",
    "    if not manager.has_model(model_name):\n",
    "        print(f\"❌ Model '{model_name}' not found in catalog\")\n",
    "        return\n",
    "    \n",
    "    # Check availability in region\n",
    "    available = manager.is_model_available_in_region(model_name=model_name, region=region)\n",
    "    print(f\"   Available in {region}: {'✅ Yes' if available else '❌ No'}\")\n",
    "    \n",
    "    if not available:\n",
    "        return\n",
    "    \n",
    "    # Get detailed access information\n",
    "    access_info = manager.get_model_access_info(model_name=model_name, region=region)\n",
    "    if access_info:\n",
    "        print(f\"   Access Method: {access_info.access_method.value.upper()}\")\n",
    "        \n",
    "        if access_info.model_id:\n",
    "            print(f\"   🎯 Direct Model ID: {access_info.model_id}\")\n",
    "        \n",
    "        if access_info.inference_profile_id:\n",
    "            print(f\"   🔄 CRIS Profile ID: {access_info.inference_profile_id}\")\n",
    "        \n",
    "        # Get recommendation\n",
    "        recommendation = manager.get_recommended_access(model_name=model_name, region=region)\n",
    "        if recommendation:\n",
    "            print(f\"   ⭐ Recommended: {recommendation.recommended_access.access_method.value.upper()}\")\n",
    "            print(f\"   💡 Rationale: {recommendation.rationale}\")\n",
    "            \n",
    "            if recommendation.alternatives:\n",
    "                print(f\"   🔀 Alternatives: {len(recommendation.alternatives)} available\")\n",
    "                for alt in recommendation.alternatives:\n",
    "                    print(f\"      - {alt.access_method.value.upper()}\")\n",
    "\n",
    "# Test cases demonstrating different access patterns\n",
    "test_cases = [\n",
    "    (\"Claude 3 Haiku\", \"us-east-1\"),      # Should have both direct and CRIS\n",
    "    (\"Nova Lite\", \"us-east-1\"),          # Amazon model with multiple access methods\n",
    "    (\"Nova Pro\", \"eu-west-1\"),           # Cross-region availability\n",
    "    (\"DeepSeek-R1\", \"us-east-1\"),        # Newer CRIS-only model\n",
    "    (\"Claude 3 Haiku\", \"ap-southeast-1\"), # CRIS access in APAC\n",
    "]\n",
    "\n",
    "print(\"🎯 Model Access Information Examples\")\n",
    "print(\"=\" * 50)\n",
    "\n",
    "for model_name, region in test_cases:\n",
    "    display_access_info(model_name, region)"
   ]
  },
  {
   "cell_type": "markdown",
   "metadata": {},
   "source": [
    "## Summary and Next Steps\n",
    "\n",
    "This notebook demonstrates the comprehensive capabilities of the UnifiedModelManager system."
   ]
  },
  {
   "cell_type": "code",
   "execution_count": null,
   "metadata": {},
   "outputs": [],
   "source": [
    "print(\"📋 UnifiedModelManager Summary\")\n",
    "print(\"=\" * 35)\n",
    "\n",
    "print(\"\\n✅ Key Capabilities Demonstrated:\")\n",
    "print(\"   🎯 Single source of truth for model access information\")\n",
    "print(\"   🔄 Automatic integration of regular and CRIS model data\")\n",
    "print(\"   🌍 Comprehensive region and access method analysis\")\n",
    "print(\"   📊 Rich querying and filtering capabilities\")\n",
    "print(\"   ⚡ Smart access method recommendations\")\n",
    "\n",
    "print(\"\\n🚀 Next Steps:\")\n",
    "print(\"   1. Integrate with your application's model selection logic\")\n",
    "print(\"   2. Use get_model_access_info() to determine optimal access methods\")\n",
    "print(\"   3. Leverage regional analysis for deployment strategies\")\n",
    "print(\"   4. Set up automated data refresh for production use\")\n",
    "\n",
    "print(\"\\n📚 Additional Resources:\")\n",
    "print(\"   - UnifiedModelManager API documentation\")\n",
    "print(\"   - Model correlation and mapping details\")\n",
    "print(\"   - CRIS integration best practices\")\n",
    "\n",
    "print(\"\\n🎉 Unified model management system ready for production use!\")"
   ]
  }
 ],
 "metadata": {
  "kernelspec": {
   "display_name": "Python 3",
   "language": "python",
   "name": "python3"
  },
  "language_info": {
   "codemirror_mode": {
    "name": "ipython",
    "version": 3
   },
   "file_extension": ".py",
   "mimetype": "text/x-python",
   "name": "python",
   "nbconvert_exporter": "python",
   "pygments_lexer": "ipython3",
   "version": "3.13.3"
  }
 },
 "nbformat": 4,
 "nbformat_minor": 4
}
