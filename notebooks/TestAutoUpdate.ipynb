{
 "cells": [
  {
   "cell_type": "markdown",
   "metadata": {},
   "source": [
    "# Test Auto-Update Functionality\n",
    "\n",
    "This notebook tests the auto-update functionality for model IDs and CRIS profiles."
   ]
  },
  {
   "cell_type": "code",
   "execution_count": null,
   "metadata": {},
   "outputs": [],
   "source": [
    "import sys\n",
    "import os\n",
    "import logging\n",
    "\n",
    "# Configure logging to see all details\n",
    "logging.basicConfig(level=logging.INFO, format='%(asctime)s - %(name)s - %(levelname)s - %(message)s')\n",
    "\n",
    "# Add the parent directory to the Python path\n",
    "parent_dir = os.path.abspath(os.path.join(os.getcwd(), '..'))\n",
    "if parent_dir not in sys.path:\n",
    "    sys.path.insert(0, parent_dir)\n",
    "\n",
    "print(f\"Current working directory: {os.getcwd()}\")\n",
    "print(f\"Parent directory added to path: {parent_dir}\")"
   ]
  },
  {
   "cell_type": "markdown",
   "metadata": {},
   "source": [
    "## Test ModelIDParser"
   ]
  },
  {
   "cell_type": "code",
   "execution_count": null,
   "metadata": {},
   "outputs": [],
   "source": [
    "# Import dependencies\n",
    "try:\n",
    "    import requests\n",
    "    from bs4 import BeautifulSoup\n",
    "    print(\"✅ All required dependencies are installed.\")\n",
    "except ImportError as e:\n",
    "    print(f\"❌ Missing dependency: {e}\")\n",
    "    print(\"Install required dependencies with: pip install requests beautifulsoup4\")"
   ]
  },
  {
   "cell_type": "code",
   "execution_count": null,
   "metadata": {},
   "outputs": [],
   "source": [
    "# Import the ModelIDParser\n",
    "from src.ModelIDParser import ModelIDParser, DEFAULT_MODEL_IDS_URL, DEFAULT_MODEL_IDS_JSON_CACHE\n",
    "\n",
    "# Initialize the parser\n",
    "model_parser = ModelIDParser(log_level=logging.INFO)\n",
    "print(\"ModelIDParser initialized successfully\")"
   ]
  },
  {
   "cell_type": "code",
   "execution_count": null,
   "metadata": {},
   "outputs": [],
   "source": [
    "# Parse from URL using the updated BeautifulSoup parser\n",
    "print(f\"Parsing models from {DEFAULT_MODEL_IDS_URL}\")\n",
    "models = model_parser.parse_from_url(\n",
    "    url=DEFAULT_MODEL_IDS_URL,\n",
    "    cache_file=\"notebook_models_test.json\",\n",
    "    save_cache=True\n",
    ")\n",
    "\n",
    "# Check results\n",
    "print(f\"\\nFound {len(models)} models\")"
   ]
  },
  {
   "cell_type": "code",
   "execution_count": null,
   "metadata": {},
   "outputs": [],
   "source": [
    "# Display some sample models\n",
    "if models:\n",
    "    print(\"\\nSample models:\")\n",
    "    for i, (model_id, model_info) in enumerate(models.items()):\n",
    "        if i >= 5:  # Show just a few examples\n",
    "            break\n",
    "        print(f\"\\nModel: {model_id}\")\n",
    "        print(f\"  Regions: {', '.join(model_info.regions[:3])}\" + \n",
    "              (\"...\" if len(model_info.regions) > 3 else \"\"))\n",
    "        print(f\"  Capabilities: {', '.join(model_info.capabilities)}\")\n",
    "        print(f\"  Streaming supported: {model_info.streaming_supported}\")"
   ]
  },
  {
   "cell_type": "markdown",
   "metadata": {},
   "source": [
    "## Test CRISProfileParser"
   ]
  },
  {
   "cell_type": "code",
   "execution_count": null,
   "metadata": {},
   "outputs": [],
   "source": [
    "# Import the CRISProfileParser\n",
    "from src.CRISProfileParser import CRISProfileParser, DEFAULT_CRIS_PROFILES_URL, DEFAULT_CRIS_PROFILES_JSON_CACHE\n",
    "\n",
    "# Initialize the parser\n",
    "cris_parser = CRISProfileParser(log_level=logging.INFO)\n",
    "print(\"CRISProfileParser initialized successfully\")"
   ]
  },
  {
   "cell_type": "code",
   "execution_count": null,
   "metadata": {},
   "outputs": [],
   "source": [
    "# Parse from URL using the updated BeautifulSoup parser\n",
    "print(f\"Parsing CRIS profiles from {DEFAULT_CRIS_PROFILES_URL}\")\n",
    "profiles = cris_parser.parse_from_url(\n",
    "    url=DEFAULT_CRIS_PROFILES_URL,\n",
    "    cache_file=\"notebook_cris_profiles_test.json\",\n",
    "    save_cache=True\n",
    ")\n",
    "\n",
    "# Check results\n",
    "print(f\"\\nFound {len(profiles)} CRIS profiles\")"
   ]
  },
  {
   "cell_type": "code",
   "execution_count": null,
   "metadata": {},
   "outputs": [],
   "source": [
    "# Display some sample profiles\n",
    "if profiles:\n",
    "    print(\"\\nSample profiles:\")\n",
    "    for i, (profile_id, profile_info) in enumerate(profiles.items()):\n",
    "        if i >= 5:  # Show just a few examples\n",
    "            break\n",
    "        print(f\"\\nProfile: {profile_id}\")\n",
    "        print(f\"  Name: {profile_info.profile_name}\")\n",
    "        print(f\"  Source Regions: {', '.join(profile_info.source_regions)}\")\n",
    "        if profile_info.source_regions:\n",
    "            first_source = profile_info.source_regions[0]\n",
    "            destinations = profile_info.get_destination_regions(first_source)\n",
    "            print(f\"  Destinations from {first_source}: {', '.join(destinations)}\")"
   ]
  },
  {
   "cell_type": "markdown",
   "metadata": {},
   "source": [
    "## Test LLMManager Integration"
   ]
  },
  {
   "cell_type": "code",
   "execution_count": null,
   "metadata": {},
   "outputs": [],
   "source": [
    "# Import LLMManager\n",
    "from src.LLMManager import LLMManager\n",
    "\n",
    "# Initialize LLMManager with auto-update capabilities\n",
    "llm_manager = LLMManager(\n",
    "    # Standard parameters\n",
    "    regions=[\"us-east-1\", \"us-west-2\"],\n",
    "    model_ids=[\"anthropic.claude-3-sonnet-20240229-v1:0\"], \n",
    "    \n",
    "    # Auto-update parameters\n",
    "    model_ids_url=DEFAULT_MODEL_IDS_URL,\n",
    "    cris_profiles_url=DEFAULT_CRIS_PROFILES_URL,\n",
    "    model_ids_cache_file=\"llm_model_ids_test.json\",\n",
    "    cris_profiles_cache_file=\"llm_cris_profiles_test.json\",\n",
    "    max_profile_age=86400,  # 1 day in seconds\n",
    "    force_model_id_update=True,  # Force update to verify it works\n",
    "    force_cris_profile_update=True,  # Force update to verify it works\n",
    "    log_level=logging.INFO\n",
    ")\n",
    "\n",
    "print(\"LLMManager initialized successfully with auto-update capabilities\")"
   ]
  },
  {
   "cell_type": "code",
   "execution_count": null,
   "metadata": {},
   "outputs": [],
   "source": [
    "# Access the collections to verify they were loaded\n",
    "model_collection = llm_manager.get_model_profile_collection()\n",
    "cris_collection = llm_manager.get_cris_profile_collection()\n",
    "\n",
    "print(f\"Number of models in LLMManager: {len(model_collection.get_all_models())}\")\n",
    "print(f\"Number of CRIS profiles in LLMManager: {len(cris_collection.get_all_profiles())}\")"
   ]
  },
  {
   "cell_type": "code",
   "execution_count": null,
   "metadata": {},
   "outputs": [],
   "source": [
    "# Export profiles to JSON files\n",
    "model_success, cris_success = llm_manager.export_profiles_to_json(\n",
    "    model_file_path=\"llm_exported_models.json\",\n",
    "    cris_file_path=\"llm_exported_cris.json\"\n",
    ")\n",
    "\n",
    "if model_success:\n",
    "    print(\"Successfully exported model profiles\")\n",
    "else:\n",
    "    print(\"Failed to export model profiles\")\n",
    "    \n",
    "if cris_success:\n",
    "    print(\"Successfully exported CRIS profiles\")\n",
    "else:\n",
    "    print(\"Failed to export CRIS profiles\")"
   ]
  },
  {
   "cell_type": "markdown",
   "metadata": {},
   "source": [
    "## Debug HTML Content (if needed)\n",
    "\n",
    "If there are issues with parsing, this cell helps examine the HTML content directly."
   ]
  },
  {
   "cell_type": "code",
   "execution_count": null,
   "metadata": {},
   "outputs": [],
   "source": [
    "import requests\n",
    "from bs4 import BeautifulSoup\n",
    "\n",
    "# Function to examine HTML content\n",
    "def examine_html(url, title):\n",
    "    print(f\"Examining {title} HTML from {url}...\")\n",
    "    \n",
    "    try:\n",
    "        response = requests.get(url)\n",
    "        response.raise_for_status()\n",
    "        html = response.text\n",
    "        print(f\"  Fetched {len(html)} bytes\")\n",
    "        \n",
    "        soup = BeautifulSoup(html, 'html.parser')\n",
    "        \n",
    "        # Print the page title\n",
    "        print(f\"  Page title: {soup.title.string if soup.title else 'No title found'}\")\n",
    "        \n",
    "        # Look for tables\n",
    "        tables = soup.find_all('table')\n",
    "        print(f\"  Number of tables found: {len(tables)}\")\n",
    "        \n",
    "        # Check for headings\n",
    "        headings = soup.find_all(['h1', 'h2', 'h3'])\n",
    "        print(f\"  Number of headings found: {len(headings)}\")\n",
    "        \n",
    "        # Print some sample headings\n",
    "        if headings:\n",
    "            print(\"\\n  Sample headings:\")\n",
    "            for i, heading in enumerate(headings):\n",
    "                if i >= 5:  # Show just a few examples\n",
    "                    break\n",
    "                print(f\"    {heading.name}: {heading.text.strip()}\")\n",
    "        \n",
    "        # Look for region text\n",
    "        region_pattern = r'(us-[a-z]+-[0-9]+|eu-[a-z]+-[0-9]+|ap-[a-z]+-[0-9]+)'\n",
    "        import re\n",
    "        regions = re.findall(region_pattern, html)\n",
    "        print(f\"\\n  Found {len(regions)} region mentions in the HTML\")\n",
    "        if regions:\n",
    "            print(f\"  Sample regions: {', '.join(regions[:10])}\")\n",
    "        \n",
    "        return soup\n",
    "        \n",
    "    except Exception as e:\n",
    "        print(f\"Error examining HTML: {str(e)}\")\n",
    "        return None\n",
    "\n",
    "# Examine both HTML documents if parsing failed\n",
    "# model_soup = examine_html(DEFAULT_MODEL_IDS_URL, \"Model IDs\")\n",
    "# cris_soup = examine_html(DEFAULT_CRIS_PROFILES_URL, \"CRIS Profiles\")"
   ]
  }
 ],
 "metadata": {
  "kernelspec": {
   "display_name": "Python 3",
   "language": "python",
   "name": "python3"
  },
  "language_info": {
   "codemirror_mode": {
    "name": "ipython",
    "version": 3
   },
   "file_extension": ".py",
   "mimetype": "text/x-python",
   "name": "python",
   "nbconvert_exporter": "python",
   "pygments_lexer": "ipython3",
   "version": "3.8.0"
  }
 },
 "nbformat": 4,
 "nbformat_minor": 4
}
